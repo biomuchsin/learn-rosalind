{
 "cells": [
  {
   "cell_type": "code",
   "execution_count": 16,
   "metadata": {},
   "outputs": [],
   "source": [
    "def fibo_rec(n):\n",
    "    \n",
    "    if n == 0:\n",
    "        return 0\n",
    "    \n",
    "    if n == 1:\n",
    "        return 1\n",
    "    \n",
    "    return fibo(n-1) + fibo(n-2)\n",
    "\n",
    "def fibo_loops(n):\n",
    "    \n",
    "    if n == 0:\n",
    "        return 0\n",
    "    \n",
    "    fibo_seq = [0] * (n+1)\n",
    "    fibo_seq[0] = 0\n",
    "    fibo_seq[1] = 1\n",
    "    for i in range(2,n+1):\n",
    "        fibo_seq[i] = fibo_seq[i-1] + fibo_seq[i-2]\n",
    "    \n",
    "    return fibo_seq[n]"
   ]
  },
  {
   "cell_type": "code",
   "execution_count": 63,
   "metadata": {},
   "outputs": [],
   "source": [
    "def bins(infile):\n",
    "    \n",
    "    length_database = 0\n",
    "    length_data = 0\n",
    "    \n",
    "    database = []\n",
    "    datapoints = []\n",
    "    \n",
    "    with open(infile, \"r\") as fin:\n",
    "        lines = fin.readlines()\n",
    "        length_database = int(lines[0].strip())\n",
    "        length_data = int(lines[1].strip())\n",
    "        database = [int(db) for db in lines[2].strip().split(\" \")]\n",
    "        datapoints = [int(dp) for dp in lines[3].strip().split(\" \")]\n",
    "        \n",
    "    matches = []\n",
    "    for dp in datapoints:\n",
    "        low = 0\n",
    "        high = length_database - 1\n",
    "        \n",
    "        match = None\n",
    "        while low <= high:\n",
    "            mid = int((low + high) / 2)\n",
    "            if database[mid] > dp:\n",
    "                high = mid - 1\n",
    "            elif database[mid] < dp:\n",
    "                low = mid + 1\n",
    "            else:\n",
    "                match = mid\n",
    "                break\n",
    "                \n",
    "        if match:\n",
    "            matches.append(str(match+1))\n",
    "        else:\n",
    "            matches.append(str(-1))\n",
    "    \n",
    "    fout = open(infile + \".solution.txt\", \"w\")\n",
    "    print (\" \".join(matches), file=fout)\n",
    "    fout.close()"
   ]
  },
  {
   "cell_type": "code",
   "execution_count": 64,
   "metadata": {},
   "outputs": [],
   "source": [
    "bins(\"download/rosalind_bins(4).txt\")"
   ]
  },
  {
   "cell_type": "code",
   "execution_count": null,
   "metadata": {},
   "outputs": [],
   "source": []
  }
 ],
 "metadata": {
  "kernelspec": {
   "display_name": "Python 3",
   "language": "python",
   "name": "python3"
  },
  "language_info": {
   "codemirror_mode": {
    "name": "ipython",
    "version": 3
   },
   "file_extension": ".py",
   "mimetype": "text/x-python",
   "name": "python",
   "nbconvert_exporter": "python",
   "pygments_lexer": "ipython3",
   "version": "3.6.5"
  }
 },
 "nbformat": 4,
 "nbformat_minor": 2
}
