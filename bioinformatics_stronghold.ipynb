{
 "cells": [
  {
   "cell_type": "code",
   "execution_count": 5,
   "metadata": {},
   "outputs": [],
   "source": [
    "import numpy as np"
   ]
  },
  {
   "cell_type": "code",
   "execution_count": 3,
   "metadata": {},
   "outputs": [],
   "source": [
    "def subs(infile):\n",
    "    \n",
    "    dna_string = \"\"\n",
    "    motif = \"\"\n",
    "    with open(infile, \"r\") as fin:\n",
    "        lines = fin.readlines()\n",
    "        dna_string = lines[0].strip()\n",
    "        motif = lines[1].strip()\n",
    "    \n",
    "    match_idx = []\n",
    "    for i in range(len(dna_string)):\n",
    "        \n",
    "        match_len = 0\n",
    "        for j in range(len(motif)):\n",
    "            if dna_string[i+j] != motif[j]:\n",
    "                break\n",
    "            \n",
    "            match_len += 1\n",
    "        if match_len == len(motif):\n",
    "            match_idx.append(str(i + 1))\n",
    "        \n",
    "    print (\" \".join(match_idx))"
   ]
  },
  {
   "cell_type": "code",
   "execution_count": 24,
   "metadata": {},
   "outputs": [],
   "source": [
    "def cons(infile):\n",
    "    \n",
    "    consensus = {\n",
    "        \"A\": None,\n",
    "        \"T\": None,\n",
    "        \"G\": None,\n",
    "        \"C\": None\n",
    "    }\n",
    "    \n",
    "    seq_list = []\n",
    "    current_seq = \"\"\n",
    "    with open(infile, \"r\") as fin:\n",
    "        for line in fin.readlines():\n",
    "            if line.startswith(\">\"):\n",
    "                if current_seq:\n",
    "                    seq_list.append(current_seq)\n",
    "                    current_seq = \"\"\n",
    "            else:\n",
    "                current_seq += line.strip()\n",
    "    seq_list.append(current_seq)\n",
    "    \n",
    "    line_len = 0\n",
    "    for line in seq_list:\n",
    "        if not line_len:\n",
    "            line_len = len(line)\n",
    "            for key in consensus.keys():\n",
    "                consensus[key] = np.zeros(line_len, dtype=int)\n",
    "        for i in range(line_len):\n",
    "            ch = line[i]\n",
    "            consensus[ch][i] += 1\n",
    "                \n",
    "                    \n",
    "    \n",
    "    seq_consensus = \"\"\n",
    "    for i in range(line_len):\n",
    "        char_selected = None\n",
    "        char_count = 0\n",
    "        for key in consensus.keys():\n",
    "            this_count = consensus[key][i]\n",
    "            if (not char_selected) or (this_count > char_count):\n",
    "                char_selected = key\n",
    "                char_count = this_count\n",
    "        seq_consensus += char_selected\n",
    "    \n",
    "    fout = open(infile + \".solution.txt\", \"w\")\n",
    "    print(seq_consensus, file=fout)\n",
    "    for key in sorted(consensus.keys()):\n",
    "        values = consensus[key]\n",
    "        values = [str(v) for v in values]\n",
    "        print(key + \": \" + \" \".join(values), file=fout)\n",
    "    fout.close()"
   ]
  },
  {
   "cell_type": "code",
   "execution_count": 26,
   "metadata": {},
   "outputs": [],
   "source": [
    "cons(\"download/rosalind_cons(2).txt\")"
   ]
  },
  {
   "cell_type": "code",
   "execution_count": null,
   "metadata": {},
   "outputs": [],
   "source": []
  }
 ],
 "metadata": {
  "kernelspec": {
   "display_name": "Python 3",
   "language": "python",
   "name": "python3"
  },
  "language_info": {
   "codemirror_mode": {
    "name": "ipython",
    "version": 3
   },
   "file_extension": ".py",
   "mimetype": "text/x-python",
   "name": "python",
   "nbconvert_exporter": "python",
   "pygments_lexer": "ipython3",
   "version": "3.6.5"
  }
 },
 "nbformat": 4,
 "nbformat_minor": 2
}
